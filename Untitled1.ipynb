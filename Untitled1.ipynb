{
 "cells": [
  {
   "cell_type": "code",
   "execution_count": 2,
   "id": "55436317-9deb-4c2d-adad-97a9ac5c5dd8",
   "metadata": {},
   "outputs": [
    {
     "data": {
      "application/vnd.jupyter.widget-view+json": {
       "model_id": "c023d38233f1480f9a827d2b64090518",
       "version_major": 2,
       "version_minor": 0
      },
      "text/plain": [
       "DeephavenWidget(height=600, iframe_url='http://localhost:10000/iframe/table/?name=_a0b99ea3_c719_4263_8ec6_b37…"
      ]
     },
     "metadata": {},
     "output_type": "display_data"
    }
   ],
   "source": [
    "from pydeephaven import Session\n",
    "from deephaven_ipywidgets import DeephavenWidget\n",
    "session = Session(auth_token=\"iris\", auth_type=\"io.deephaven.authentication.psk.PskAuthenticationHandler\")\n",
    "tt = session.time_table(period=1_000_000_000).update(\"X=i\")\n",
    "display(DeephavenWidget(tt))"
   ]
  },
  {
   "cell_type": "code",
   "execution_count": 3,
   "id": "7c182905-5626-4d30-8391-2abdefb1e8ce",
   "metadata": {},
   "outputs": [],
   "source": [
    "session.run_script(\"\"\"\n",
    "from deephaven import empty_table\n",
    "from deephaven.plot.figure import Figure\n",
    "t = empty_table(100).update([\"X=i\", \"Y=i*i\"])\n",
    "f = Figure().plot_xy(series_name=\"X vs Y\", t=t, x=\"X\", y=\"Y\").show()\n",
    "\"\"\")\n",
    "display(DeephavenWidget(\"f\", session=session))"
   ]
  },
  {
   "cell_type": "code",
   "execution_count": 4,
   "id": "25780f16-6553-432b-9225-820e7680b437",
   "metadata": {},
   "outputs": [
    {
     "data": {
      "application/vnd.jupyter.widget-view+json": {
       "model_id": "e6ba1885f0ff4f388f0d274e28e8e6d8",
       "version_major": 2,
       "version_minor": 0
      },
      "text/plain": [
       "DeephavenWidget(height=600, iframe_url='http://localhost:10000/iframe/widget/?name=f', kernel_active=True, obj…"
      ]
     },
     "metadata": {},
     "output_type": "display_data"
    }
   ],
   "source": []
  },
  {
   "cell_type": "code",
   "execution_count": 11,
   "id": "c95d9f1a-44e1-40cc-9894-ec3fba9c4895",
   "metadata": {},
   "outputs": [
    {
     "data": {
      "text/plain": [
       "[(b'authorization', b'Bearer 3630af37-0eb8-43de-a98a-fbce78bdf7a2')]"
      ]
     },
     "execution_count": 11,
     "metadata": {},
     "output_type": "execute_result"
    }
   ],
   "source": [
    "session.grpc_metadata"
   ]
  },
  {
   "cell_type": "code",
   "execution_count": 6,
   "id": "b4717b8e-6b18-4193-a54a-9f017cb7a784",
   "metadata": {},
   "outputs": [
    {
     "ename": "KeyError",
     "evalue": "b'envoy-prefix'",
     "output_type": "error",
     "traceback": [
      "\u001b[0;31m---------------------------------------------------------------------------\u001b[0m",
      "\u001b[0;31mKeyError\u001b[0m                                  Traceback (most recent call last)",
      "Cell \u001b[0;32mIn[6], line 1\u001b[0m\n\u001b[0;32m----> 1\u001b[0m display(\u001b[43mDeephavenWidget\u001b[49m\u001b[43m(\u001b[49m\u001b[43mtt\u001b[49m\u001b[43m)\u001b[49m)\n",
      "File \u001b[0;32m~/dev/deephaven/oss/deephaven-ipywidgets/deephaven_ipywidgets/deephaven.py:94\u001b[0m, in \u001b[0;36mDeephavenWidget.__init__\u001b[0;34m(self, deephaven_object, height, width)\u001b[0m\n\u001b[1;32m     91\u001b[0m \u001b[38;5;28;01mif\u001b[39;00m _str_object_type(deephaven_object) \u001b[38;5;241m==\u001b[39m \u001b[38;5;124m\"\u001b[39m\u001b[38;5;124mpydeephaven.table.Table\u001b[39m\u001b[38;5;124m\"\u001b[39m:\n\u001b[1;32m     92\u001b[0m     session \u001b[38;5;241m=\u001b[39m deephaven_object\u001b[38;5;241m.\u001b[39msession\n\u001b[0;32m---> 94\u001b[0m     envoy_prefix \u001b[38;5;241m=\u001b[39m \u001b[43msession\u001b[49m\u001b[38;5;241;43m.\u001b[39;49m\u001b[43m_extra_headers\u001b[49m\u001b[43m[\u001b[49m\u001b[38;5;124;43mb\u001b[39;49m\u001b[38;5;124;43m\"\u001b[39;49m\u001b[38;5;124;43menvoy-prefix\u001b[39;49m\u001b[38;5;124;43m\"\u001b[39;49m\u001b[43m]\u001b[49m\u001b[38;5;241m.\u001b[39mdecode(\u001b[38;5;124m\"\u001b[39m\u001b[38;5;124mascii\u001b[39m\u001b[38;5;124m\"\u001b[39m)\n\u001b[1;32m     96\u001b[0m     token \u001b[38;5;241m=\u001b[39m base64\u001b[38;5;241m.\u001b[39mb64encode(\n\u001b[1;32m     97\u001b[0m         session\u001b[38;5;241m.\u001b[39msession_manager\u001b[38;5;241m.\u001b[39mauth_client\u001b[38;5;241m.\u001b[39mget_token(\n\u001b[1;32m     98\u001b[0m             \u001b[38;5;124m\"\u001b[39m\u001b[38;5;124mRemoteQueryProcessor\u001b[39m\u001b[38;5;124m\"\u001b[39m\n\u001b[1;32m     99\u001b[0m         )\u001b[38;5;241m.\u001b[39mSerializeToString()\n\u001b[1;32m    100\u001b[0m     )\u001b[38;5;241m.\u001b[39mdecode(\u001b[38;5;124m\"\u001b[39m\u001b[38;5;124mus-ascii\u001b[39m\u001b[38;5;124m\"\u001b[39m)\n\u001b[1;32m    102\u001b[0m     params\u001b[38;5;241m.\u001b[39mupdate({\u001b[38;5;124m\"\u001b[39m\u001b[38;5;124mauthProvider\u001b[39m\u001b[38;5;124m\"\u001b[39m: \u001b[38;5;124m\"\u001b[39m\u001b[38;5;124mparent\u001b[39m\u001b[38;5;124m\"\u001b[39m, \u001b[38;5;124m\"\u001b[39m\u001b[38;5;124menvoyPrefix\u001b[39m\u001b[38;5;124m\"\u001b[39m: envoy_prefix})\n",
      "\u001b[0;31mKeyError\u001b[0m: b'envoy-prefix'"
     ]
    }
   ],
   "source": []
  },
  {
   "cell_type": "code",
   "execution_count": null,
   "id": "b76aa8d2-5031-4512-a142-0b3ba2b81378",
   "metadata": {},
   "outputs": [],
   "source": []
  }
 ],
 "metadata": {
  "kernelspec": {
   "display_name": "Python 3 (ipykernel)",
   "language": "python",
   "name": "python3"
  },
  "language_info": {
   "codemirror_mode": {
    "name": "ipython",
    "version": 3
   },
   "file_extension": ".py",
   "mimetype": "text/x-python",
   "name": "python",
   "nbconvert_exporter": "python",
   "pygments_lexer": "ipython3",
   "version": "3.10.13"
  }
 },
 "nbformat": 4,
 "nbformat_minor": 5
}
