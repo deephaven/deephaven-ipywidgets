{
 "cells": [
  {
   "cell_type": "code",
   "execution_count": null,
   "id": "ec21a82b-e91a-448a-a865-398f5c253e70",
   "metadata": {},
   "outputs": [],
   "source": [
    "# Start up the Deephaven Server\n",
    "from deephaven_server import Server\n",
    "s = Server(port=8080)\n",
    "s.start()"
   ]
  },
  {
   "cell_type": "code",
   "execution_count": null,
   "id": "28b44229-21b3-451b-937b-533b049de1c8",
   "metadata": {},
   "outputs": [],
   "source": [
    "# Create a table and display it\n",
    "from deephaven import empty_table\n",
    "from deephaven_ipywidgets import DeephavenWidget\n",
    "t = empty_table(1000).update([\"x=i\", \"y=Math.sin(i/10)\"])\n",
    "display(DeephavenWidget(t))"
   ]
  },
  {
   "cell_type": "code",
   "execution_count": null,
   "id": "b5234d93",
   "metadata": {},
   "outputs": [],
   "source": [
    "# Specify a size for the table\n",
    "DeephavenWidget(t, width=130, height=250)"
   ]
  },
  {
   "cell_type": "code",
   "execution_count": null,
   "id": "8601ca46",
   "metadata": {},
   "outputs": [],
   "source": [
    "# Create a figure and display it\n",
    "from deephaven.plot.figure import Figure\n",
    "f = Figure().plot_xy(series_name=\"Sine Wave\", t=t, x=\"x\", y=\"y\").show()\n",
    "display(DeephavenWidget(f))"
   ]
  },
  {
   "cell_type": "code",
   "execution_count": null,
   "id": "ad1968c2",
   "metadata": {},
   "outputs": [],
   "source": []
  }
 ],
 "metadata": {
  "kernelspec": {
   "display_name": "Python 3 (ipykernel)",
   "language": "python",
   "name": "python3"
  },
  "language_info": {
   "codemirror_mode": {
    "name": "ipython",
    "version": 3
   },
   "file_extension": ".py",
   "mimetype": "text/x-python",
   "name": "python",
   "nbconvert_exporter": "python",
   "pygments_lexer": "ipython3",
   "version": "3.8.2"
  },
  "vscode": {
   "interpreter": {
    "hash": "3fb3d169c97c05dce9d5e5e07fba5f8e81b84aa43749864b30ae9fc530edac5a"
   }
  }
 },
 "nbformat": 4,
 "nbformat_minor": 5
}
