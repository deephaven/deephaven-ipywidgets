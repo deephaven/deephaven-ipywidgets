{
 "cells": [
  {
   "cell_type": "code",
   "execution_count": 1,
   "id": "a834ef06-ccb6-44c1-99ed-f0abcd5f6513",
   "metadata": {},
   "outputs": [
    {
     "name": "stdout",
     "output_type": "stream",
     "text": [
      "# Starting io.deephaven.python.server.EmbeddedServer\n",
      "deephaven.cacheDir=/Users/bender/Library/Caches/io.Deephaven-Data-Labs.deephaven\n",
      "deephaven.configDir=/Users/bender/Library/Application Support/io.Deephaven-Data-Labs.deephaven\n",
      "deephaven.dataDir=/Users/bender/Library/Application Support/io.Deephaven-Data-Labs.deephaven\n",
      "# io.deephaven.internal.log.LoggerFactoryServiceLoaderImpl: searching for 'io.deephaven.internal.log.LoggerFactory'...\n",
      "# io.deephaven.internal.log.LoggerFactoryServiceLoaderImpl: found 'io.deephaven.internal.log.LoggerFactorySlf4j'\n",
      "Server started on port 10000\n"
     ]
    }
   ],
   "source": [
    "# Start up the Deephaven Server\n",
    "from deephaven_server import Server\n",
    "s = Server(jvm_args=[\"-Dauthentication.psk=iris\"])\n",
    "s.start()"
   ]
  },
  {
   "cell_type": "code",
   "execution_count": 2,
   "id": "a063fbf1-08b8-4380-ad12-067f154c0e95",
   "metadata": {},
   "outputs": [
    {
     "data": {
      "application/vnd.jupyter.widget-view+json": {
       "model_id": "87b34c4d7ceb4d8a8436fe2536539c16",
       "version_major": 2,
       "version_minor": 0
      },
      "text/plain": [
       "DeephavenWidget(height=600, iframe_url='http://localhost:10000/iframe/table/?name=t_cf4f8af8_d49a_4e0d_998d_84…"
      ]
     },
     "metadata": {},
     "output_type": "display_data"
    }
   ],
   "source": [
    "# Create a table and display it\n",
    "from deephaven import empty_table\n",
    "from deephaven_ipywidgets import DeephavenWidget\n",
    "t = empty_table(1000).update(\"x=i\")\n",
    "display(DeephavenWidget(t))"
   ]
  },
  {
   "cell_type": "code",
   "execution_count": 7,
   "id": "78875bc3-f267-4bbb-8997-6ec824c02c92",
   "metadata": {},
   "outputs": [
    {
     "data": {
      "application/vnd.jupyter.widget-view+json": {
       "model_id": "2659486def4c4366a4a8e9b30e682bce",
       "version_major": 2,
       "version_minor": 0
      },
      "text/plain": [
       "DeephavenWidget(height=600, iframe_url='http://localhost:10000/iframe/widget/?name=t_a1921df6_348d_4676_b838_2…"
      ]
     },
     "metadata": {},
     "output_type": "display_data"
    }
   ],
   "source": [
    "from deephaven_ipywidgets import DeephavenWidget\n",
    "from deephaven.column import int_col, string_col\n",
    "import deephaven.plot.express as dx\n",
    "from deephaven import new_table\n",
    "\n",
    "source = new_table(\n",
    "    [\n",
    "        string_col(\"Categories\", [\"A\", \"B\", \"C\"]),\n",
    "        int_col(\"Values\", [1, 3, 5]),\n",
    "    ]\n",
    ")\n",
    "\n",
    "fig = dx.bar(table=source, x=\"Categories\", y=\"Values\")\n",
    "display(DeephavenWidget(fig))"
   ]
  },
  {
   "cell_type": "code",
   "execution_count": null,
   "id": "da6da516-5410-4cfa-9005-3ccfc64b7e8d",
   "metadata": {},
   "outputs": [],
   "source": []
  }
 ],
 "metadata": {
  "kernelspec": {
   "display_name": "Python 3 (ipykernel)",
   "language": "python",
   "name": "python3"
  },
  "language_info": {
   "codemirror_mode": {
    "name": "ipython",
    "version": 3
   },
   "file_extension": ".py",
   "mimetype": "text/x-python",
   "name": "python",
   "nbconvert_exporter": "python",
   "pygments_lexer": "ipython3",
   "version": "3.10.13"
  }
 },
 "nbformat": 4,
 "nbformat_minor": 5
}
